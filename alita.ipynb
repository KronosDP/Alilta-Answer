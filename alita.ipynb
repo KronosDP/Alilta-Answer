{
 "cells": [
  {
   "cell_type": "code",
   "execution_count": 2,
   "metadata": {},
   "outputs": [],
   "source": [
    "import pandas as pd\n",
    "\n",
    "data = pd.read_csv(\n",
    "    'https://gist.githubusercontent.com/fajrulfx/f48e4ed8c0157f995154b4baca49242c/raw/6057177971b1396867deaad19824fac3690e265e/kbbi_clean.csv')\n",
    "database = data['kata'].tolist()"
   ]
  },
  {
   "cell_type": "code",
   "execution_count": 3,
   "metadata": {},
   "outputs": [
    {
     "name": "stdout",
     "output_type": "stream",
     "text": [
      "jangak\n",
      "jangan\n",
      "jangar\n",
      "jangat\n",
      "janggal\n",
      "janggelan\n",
      "janggi\n",
      "janggi\n",
      "janggolan\n",
      "janggung\n",
      "janggut\n",
      "janggut\n",
      "jangka\n",
      "jangka\n",
      "jangka\n",
      "jangkah\n",
      "jangkang\n",
      "jangkang\n",
      "jangkang\n",
      "jangkar\n",
      "jangkar\n",
      "jangkar\n",
      "jangkat\n",
      "jangkat\n",
      "jangkau\n",
      "jangki\n",
      "jangkih\n",
      "jangkih\n",
      "jangking\n",
      "jangkir\n",
      "jangkir\n",
      "jangkit\n",
      "jangkit\n",
      "jangkrik\n",
      "jangkung\n",
      "jangkung\n",
      "jangla\n",
      "jangol\n"
     ]
    },
    {
     "ename": "AttributeError",
     "evalue": "'float' object has no attribute 'startswith'",
     "output_type": "error",
     "traceback": [
      "\u001b[1;31m---------------------------------------------------------------------------\u001b[0m",
      "\u001b[1;31mAttributeError\u001b[0m                            Traceback (most recent call last)",
      "\u001b[1;32md:\\Codingan\\TestBaru\\RandomThings\\alita.ipynb Cell 2\u001b[0m in \u001b[0;36m<cell line: 3>\u001b[1;34m()\u001b[0m\n\u001b[0;32m      <a href='vscode-notebook-cell:/d%3A/Codingan/TestBaru/RandomThings/alita.ipynb#W1sZmlsZQ%3D%3D?line=0'>1</a>\u001b[0m searched_word_begins_with \u001b[39m=\u001b[39m \u001b[39m\"\u001b[39m\u001b[39mjang\u001b[39m\u001b[39m\"\u001b[39m\n\u001b[0;32m      <a href='vscode-notebook-cell:/d%3A/Codingan/TestBaru/RandomThings/alita.ipynb#W1sZmlsZQ%3D%3D?line=2'>3</a>\u001b[0m \u001b[39mfor\u001b[39;00m word \u001b[39min\u001b[39;00m database:\n\u001b[1;32m----> <a href='vscode-notebook-cell:/d%3A/Codingan/TestBaru/RandomThings/alita.ipynb#W1sZmlsZQ%3D%3D?line=3'>4</a>\u001b[0m     \u001b[39mif\u001b[39;00m word\u001b[39m.\u001b[39;49mstartswith(searched_word_begins_with):\n\u001b[0;32m      <a href='vscode-notebook-cell:/d%3A/Codingan/TestBaru/RandomThings/alita.ipynb#W1sZmlsZQ%3D%3D?line=4'>5</a>\u001b[0m         \u001b[39mprint\u001b[39m(word)\n",
      "\u001b[1;31mAttributeError\u001b[0m: 'float' object has no attribute 'startswith'"
     ]
    }
   ],
   "source": [
    "searched_word_begins_with = \"jang\"\n",
    "\n",
    "for word in database:\n",
    "    if word.startswith(searched_word_begins_with):\n",
    "        print(word)"
   ]
  },
  {
   "cell_type": "code",
   "execution_count": null,
   "metadata": {},
   "outputs": [],
   "source": []
  }
 ],
 "metadata": {
  "kernelspec": {
   "display_name": "Python 3",
   "language": "python",
   "name": "python3"
  },
  "language_info": {
   "codemirror_mode": {
    "name": "ipython",
    "version": 3
   },
   "file_extension": ".py",
   "mimetype": "text/x-python",
   "name": "python",
   "nbconvert_exporter": "python",
   "pygments_lexer": "ipython3",
   "version": "3.10.5"
  },
  "orig_nbformat": 4
 },
 "nbformat": 4,
 "nbformat_minor": 2
}
